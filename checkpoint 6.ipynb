{
 "cells": [
  {
   "cell_type": "code",
   "execution_count": 11,
   "id": "0f7fc0a7",
   "metadata": {},
   "outputs": [
    {
     "data": {
      "text/plain": [
       "[[1, 2], [3, 4]]"
      ]
     },
     "execution_count": 11,
     "metadata": {},
     "output_type": "execute_result"
    }
   ],
   "source": [
    "#question 1\n",
    "import numpy as np\n",
    "a=np.array([[1,2],[3,4]])\n",
    "b=a.tolist()\n",
    "b\n"
   ]
  },
  {
   "cell_type": "code",
   "execution_count": 16,
   "id": "e98039e5",
   "metadata": {},
   "outputs": [
    {
     "data": {
      "text/plain": [
       "5"
      ]
     },
     "execution_count": 16,
     "metadata": {},
     "output_type": "execute_result"
    }
   ],
   "source": [
    "#question 2\n",
    "import numpy as np\n",
    "a=np.array([[1,2],[3,4],[5,6]])\n",
    "b=a.trace()\n",
    "b"
   ]
  },
  {
   "cell_type": "code",
   "execution_count": 18,
   "id": "44ab7e08",
   "metadata": {},
   "outputs": [
    {
     "name": "stdout",
     "output_type": "stream",
     "text": [
      "tapez X5\n",
      "5\n",
      "6\n"
     ]
    }
   ],
   "source": [
    "#question 3\n",
    "import numpy as np\n",
    "a=np.array([[1,2],[3,4],[5,6]])\n",
    "x=int(input(\"tapez X\"))\n",
    "for i in a:\n",
    "    for j in i:\n",
    "        if j>=x:\n",
    "            print (j) \n",
    "       "
   ]
  },
  {
   "cell_type": "code",
   "execution_count": 19,
   "id": "475cf89e",
   "metadata": {},
   "outputs": [
    {
     "name": "stdout",
     "output_type": "stream",
     "text": [
      "[[ 6  4]\n",
      " [10  6]\n",
      " [13  9]]\n"
     ]
    }
   ],
   "source": [
    "#question 4\n",
    "A=np.array([[1,2],[3,4],[5,6]])\n",
    "B=np.array([[5,2],[7,2],[8,3]])\n",
    "C=A+B\n",
    "print (C)"
   ]
  },
  {
   "cell_type": "code",
   "execution_count": 22,
   "id": "0cc1753d",
   "metadata": {},
   "outputs": [
    {
     "data": {
      "text/plain": [
       "array([[-2.5, -1.5],\n",
       "       [-0.5,  0.5],\n",
       "       [ 1.5,  2.5]])"
      ]
     },
     "execution_count": 22,
     "metadata": {},
     "output_type": "execute_result"
    }
   ],
   "source": [
    "#question 5\n",
    "import numpy as np\n",
    "C=np.array([[1,2],[3,4],[5,6]])\n",
    "Y=C-C.mean()\n",
    "Y"
   ]
  },
  {
   "cell_type": "code",
   "execution_count": null,
   "id": "7b612bc7",
   "metadata": {},
   "outputs": [],
   "source": []
  }
 ],
 "metadata": {
  "kernelspec": {
   "display_name": "Python 3",
   "language": "python",
   "name": "python3"
  },
  "language_info": {
   "codemirror_mode": {
    "name": "ipython",
    "version": 3
   },
   "file_extension": ".py",
   "mimetype": "text/x-python",
   "name": "python",
   "nbconvert_exporter": "python",
   "pygments_lexer": "ipython3",
   "version": "3.8.8"
  }
 },
 "nbformat": 4,
 "nbformat_minor": 5
}
